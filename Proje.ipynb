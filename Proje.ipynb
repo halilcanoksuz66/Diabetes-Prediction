{
 "cells": [
  {
   "cell_type": "code",
   "execution_count": 2,
   "metadata": {},
   "outputs": [],
   "source": [
    "import numpy as np\n",
    "# Veri setindeki 0 değerleri NaN yaparken kullandım.\n",
    "import pandas as pd\n",
    "# Pandas kütüphanesini veri setini okurken çalıştırırken vs kullanmamı sağladı."
   ]
  },
  {
   "cell_type": "code",
   "execution_count": 3,
   "metadata": {},
   "outputs": [
    {
     "data": {
      "text/html": [
       "<div>\n",
       "<style scoped>\n",
       "    .dataframe tbody tr th:only-of-type {\n",
       "        vertical-align: middle;\n",
       "    }\n",
       "\n",
       "    .dataframe tbody tr th {\n",
       "        vertical-align: top;\n",
       "    }\n",
       "\n",
       "    .dataframe thead th {\n",
       "        text-align: right;\n",
       "    }\n",
       "</style>\n",
       "<table border=\"1\" class=\"dataframe\">\n",
       "  <thead>\n",
       "    <tr style=\"text-align: right;\">\n",
       "      <th></th>\n",
       "      <th>Pregnancies</th>\n",
       "      <th>Glucose</th>\n",
       "      <th>BloodPressure</th>\n",
       "      <th>SkinThickness</th>\n",
       "      <th>Insulin</th>\n",
       "      <th>BMI</th>\n",
       "      <th>DiabetesPedigreeFunction</th>\n",
       "      <th>Age</th>\n",
       "      <th>Outcome</th>\n",
       "    </tr>\n",
       "  </thead>\n",
       "  <tbody>\n",
       "    <tr>\n",
       "      <th>0</th>\n",
       "      <td>6</td>\n",
       "      <td>148</td>\n",
       "      <td>72</td>\n",
       "      <td>35</td>\n",
       "      <td>0</td>\n",
       "      <td>33.6</td>\n",
       "      <td>0.627</td>\n",
       "      <td>50</td>\n",
       "      <td>1</td>\n",
       "    </tr>\n",
       "    <tr>\n",
       "      <th>1</th>\n",
       "      <td>1</td>\n",
       "      <td>85</td>\n",
       "      <td>66</td>\n",
       "      <td>29</td>\n",
       "      <td>0</td>\n",
       "      <td>26.6</td>\n",
       "      <td>0.351</td>\n",
       "      <td>31</td>\n",
       "      <td>0</td>\n",
       "    </tr>\n",
       "    <tr>\n",
       "      <th>2</th>\n",
       "      <td>8</td>\n",
       "      <td>183</td>\n",
       "      <td>64</td>\n",
       "      <td>0</td>\n",
       "      <td>0</td>\n",
       "      <td>23.3</td>\n",
       "      <td>0.672</td>\n",
       "      <td>32</td>\n",
       "      <td>1</td>\n",
       "    </tr>\n",
       "    <tr>\n",
       "      <th>3</th>\n",
       "      <td>1</td>\n",
       "      <td>89</td>\n",
       "      <td>66</td>\n",
       "      <td>23</td>\n",
       "      <td>94</td>\n",
       "      <td>28.1</td>\n",
       "      <td>0.167</td>\n",
       "      <td>21</td>\n",
       "      <td>0</td>\n",
       "    </tr>\n",
       "    <tr>\n",
       "      <th>4</th>\n",
       "      <td>0</td>\n",
       "      <td>137</td>\n",
       "      <td>40</td>\n",
       "      <td>35</td>\n",
       "      <td>168</td>\n",
       "      <td>43.1</td>\n",
       "      <td>2.288</td>\n",
       "      <td>33</td>\n",
       "      <td>1</td>\n",
       "    </tr>\n",
       "  </tbody>\n",
       "</table>\n",
       "</div>"
      ],
      "text/plain": [
       "   Pregnancies  Glucose  BloodPressure  SkinThickness  Insulin   BMI  \\\n",
       "0            6      148             72             35        0  33.6   \n",
       "1            1       85             66             29        0  26.6   \n",
       "2            8      183             64              0        0  23.3   \n",
       "3            1       89             66             23       94  28.1   \n",
       "4            0      137             40             35      168  43.1   \n",
       "\n",
       "   DiabetesPedigreeFunction  Age  Outcome  \n",
       "0                     0.627   50        1  \n",
       "1                     0.351   31        0  \n",
       "2                     0.672   32        1  \n",
       "3                     0.167   21        0  \n",
       "4                     2.288   33        1  "
      ]
     },
     "execution_count": 3,
     "metadata": {},
     "output_type": "execute_result"
    }
   ],
   "source": [
    "df = pd.read_csv(\"diabetes.csv\")\n",
    "df.head()\n",
    "# df.head() ile veri setini gösterttim."
   ]
  },
  {
   "cell_type": "code",
   "execution_count": 4,
   "metadata": {},
   "outputs": [
    {
     "name": "stdout",
     "output_type": "stream",
     "text": [
      "<class 'pandas.core.frame.DataFrame'>\n",
      "RangeIndex: 768 entries, 0 to 767\n",
      "Data columns (total 9 columns):\n",
      " #   Column                    Non-Null Count  Dtype  \n",
      "---  ------                    --------------  -----  \n",
      " 0   Pregnancies               768 non-null    int64  \n",
      " 1   Glucose                   768 non-null    int64  \n",
      " 2   BloodPressure             768 non-null    int64  \n",
      " 3   SkinThickness             768 non-null    int64  \n",
      " 4   Insulin                   768 non-null    int64  \n",
      " 5   BMI                       768 non-null    float64\n",
      " 6   DiabetesPedigreeFunction  768 non-null    float64\n",
      " 7   Age                       768 non-null    int64  \n",
      " 8   Outcome                   768 non-null    int64  \n",
      "dtypes: float64(2), int64(7)\n",
      "memory usage: 54.1 KB\n"
     ]
    }
   ],
   "source": [
    "df.info()\n",
    "# Verilerle ilgili bilgi almak için kullandık. Kaç tane var veya int mi tanımlanmış. "
   ]
  },
  {
   "cell_type": "markdown",
   "metadata": {},
   "source": [
    "Veri setinde 768 satır var ve 9 özellik var."
   ]
  },
  {
   "cell_type": "code",
   "execution_count": 5,
   "metadata": {},
   "outputs": [
    {
     "data": {
      "text/plain": [
       "Pregnancies                 0\n",
       "Glucose                     0\n",
       "BloodPressure               0\n",
       "SkinThickness               0\n",
       "Insulin                     0\n",
       "BMI                         0\n",
       "DiabetesPedigreeFunction    0\n",
       "Age                         0\n",
       "Outcome                     0\n",
       "dtype: int64"
      ]
     },
     "execution_count": 5,
     "metadata": {},
     "output_type": "execute_result"
    }
   ],
   "source": [
    "# veri setinde eksik veri var mı\n",
    "df.isnull().sum()"
   ]
  },
  {
   "cell_type": "markdown",
   "metadata": {},
   "source": [
    "Eksik veri yok."
   ]
  },
  {
   "cell_type": "code",
   "execution_count": 6,
   "metadata": {},
   "outputs": [
    {
     "data": {
      "text/plain": [
       "Pregnancies                 111\n",
       "Glucose                       5\n",
       "BloodPressure                35\n",
       "SkinThickness               227\n",
       "Insulin                     374\n",
       "BMI                          11\n",
       "DiabetesPedigreeFunction      0\n",
       "Age                           0\n",
       "Outcome                     500\n",
       "dtype: int64"
      ]
     },
     "execution_count": 6,
     "metadata": {},
     "output_type": "execute_result"
    }
   ],
   "source": [
    "# Sıfır değerini içeren verilere bakalım. \n",
    "# Hamile kalma sayısı ile çıktı değişkeninin 0 olması normal bir durum. \n",
    "# Ancak diğer özelliklerde 0 olması o özelliğin ölçülmediği anlamına gelir.\n",
    "df.eq(0).sum()"
   ]
  },
  {
   "cell_type": "code",
   "execution_count": 7,
   "metadata": {},
   "outputs": [
    {
     "data": {
      "text/plain": [
       "(768, 9)"
      ]
     },
     "execution_count": 7,
     "metadata": {},
     "output_type": "execute_result"
    }
   ],
   "source": [
    "df.shape\n",
    "# 768 verim varmış 9 özelliğim varmış 8 + 1 sonuç özelliği "
   ]
  },
  {
   "cell_type": "code",
   "execution_count": 8,
   "metadata": {},
   "outputs": [],
   "source": [
    "# 0 değerlerinin nan olarak girilmesi gereklidir.Ne için gerekli? Sonradan NaN ile işlem yapabilmem için gerekli.\n",
    "df[['Glucose', 'BloodPressure', 'SkinThickness', 'Insulin', 'BMI', 'DiabetesPedigreeFunction','Age']] = df[['Glucose', 'BloodPressure', 'SkinThickness', 'Insulin', 'BMI', 'DiabetesPedigreeFunction','Age']].replace(0,np.NaN)"
   ]
  },
  {
   "cell_type": "code",
   "execution_count": 9,
   "metadata": {},
   "outputs": [],
   "source": [
    "# Eksik verileri ortalama ile dolduralım.\n",
    "# inplace=True ise veri setinde değişikliği uyguluyoruz. False olsaydı sadece göstermiş olacaktık.\n",
    "df.fillna(df.mean(),inplace=True)"
   ]
  },
  {
   "cell_type": "code",
   "execution_count": 10,
   "metadata": {},
   "outputs": [
    {
     "data": {
      "text/html": [
       "<div>\n",
       "<style scoped>\n",
       "    .dataframe tbody tr th:only-of-type {\n",
       "        vertical-align: middle;\n",
       "    }\n",
       "\n",
       "    .dataframe tbody tr th {\n",
       "        vertical-align: top;\n",
       "    }\n",
       "\n",
       "    .dataframe thead th {\n",
       "        text-align: right;\n",
       "    }\n",
       "</style>\n",
       "<table border=\"1\" class=\"dataframe\">\n",
       "  <thead>\n",
       "    <tr style=\"text-align: right;\">\n",
       "      <th></th>\n",
       "      <th>Pregnancies</th>\n",
       "      <th>Glucose</th>\n",
       "      <th>BloodPressure</th>\n",
       "      <th>SkinThickness</th>\n",
       "      <th>Insulin</th>\n",
       "      <th>BMI</th>\n",
       "      <th>DiabetesPedigreeFunction</th>\n",
       "      <th>Age</th>\n",
       "      <th>Outcome</th>\n",
       "    </tr>\n",
       "  </thead>\n",
       "  <tbody>\n",
       "    <tr>\n",
       "      <th>0</th>\n",
       "      <td>6</td>\n",
       "      <td>148.0</td>\n",
       "      <td>72.0</td>\n",
       "      <td>35.00000</td>\n",
       "      <td>155.548223</td>\n",
       "      <td>33.6</td>\n",
       "      <td>0.627</td>\n",
       "      <td>50</td>\n",
       "      <td>1</td>\n",
       "    </tr>\n",
       "    <tr>\n",
       "      <th>1</th>\n",
       "      <td>1</td>\n",
       "      <td>85.0</td>\n",
       "      <td>66.0</td>\n",
       "      <td>29.00000</td>\n",
       "      <td>155.548223</td>\n",
       "      <td>26.6</td>\n",
       "      <td>0.351</td>\n",
       "      <td>31</td>\n",
       "      <td>0</td>\n",
       "    </tr>\n",
       "    <tr>\n",
       "      <th>2</th>\n",
       "      <td>8</td>\n",
       "      <td>183.0</td>\n",
       "      <td>64.0</td>\n",
       "      <td>29.15342</td>\n",
       "      <td>155.548223</td>\n",
       "      <td>23.3</td>\n",
       "      <td>0.672</td>\n",
       "      <td>32</td>\n",
       "      <td>1</td>\n",
       "    </tr>\n",
       "    <tr>\n",
       "      <th>3</th>\n",
       "      <td>1</td>\n",
       "      <td>89.0</td>\n",
       "      <td>66.0</td>\n",
       "      <td>23.00000</td>\n",
       "      <td>94.000000</td>\n",
       "      <td>28.1</td>\n",
       "      <td>0.167</td>\n",
       "      <td>21</td>\n",
       "      <td>0</td>\n",
       "    </tr>\n",
       "    <tr>\n",
       "      <th>4</th>\n",
       "      <td>0</td>\n",
       "      <td>137.0</td>\n",
       "      <td>40.0</td>\n",
       "      <td>35.00000</td>\n",
       "      <td>168.000000</td>\n",
       "      <td>43.1</td>\n",
       "      <td>2.288</td>\n",
       "      <td>33</td>\n",
       "      <td>1</td>\n",
       "    </tr>\n",
       "  </tbody>\n",
       "</table>\n",
       "</div>"
      ],
      "text/plain": [
       "   Pregnancies  Glucose  BloodPressure  SkinThickness     Insulin   BMI  \\\n",
       "0            6    148.0           72.0       35.00000  155.548223  33.6   \n",
       "1            1     85.0           66.0       29.00000  155.548223  26.6   \n",
       "2            8    183.0           64.0       29.15342  155.548223  23.3   \n",
       "3            1     89.0           66.0       23.00000   94.000000  28.1   \n",
       "4            0    137.0           40.0       35.00000  168.000000  43.1   \n",
       "\n",
       "   DiabetesPedigreeFunction  Age  Outcome  \n",
       "0                     0.627   50        1  \n",
       "1                     0.351   31        0  \n",
       "2                     0.672   32        1  \n",
       "3                     0.167   21        0  \n",
       "4                     2.288   33        1  "
      ]
     },
     "execution_count": 10,
     "metadata": {},
     "output_type": "execute_result"
    }
   ],
   "source": [
    "df.head()\n",
    "# Gösterttim yine"
   ]
  },
  {
   "cell_type": "code",
   "execution_count": 11,
   "metadata": {},
   "outputs": [
    {
     "data": {
      "text/plain": [
       "Pregnancies                 0\n",
       "Glucose                     0\n",
       "BloodPressure               0\n",
       "SkinThickness               0\n",
       "Insulin                     0\n",
       "BMI                         0\n",
       "DiabetesPedigreeFunction    0\n",
       "Age                         0\n",
       "Outcome                     0\n",
       "dtype: int64"
      ]
     },
     "execution_count": 11,
     "metadata": {},
     "output_type": "execute_result"
    }
   ],
   "source": [
    "df.isnull().sum()\n",
    "# Tekrardan nulllara baktık."
   ]
  },
  {
   "cell_type": "code",
   "execution_count": 12,
   "metadata": {},
   "outputs": [
    {
     "data": {
      "text/plain": [
       "Pregnancies                 111\n",
       "Glucose                       0\n",
       "BloodPressure                 0\n",
       "SkinThickness                 0\n",
       "Insulin                       0\n",
       "BMI                           0\n",
       "DiabetesPedigreeFunction      0\n",
       "Age                           0\n",
       "Outcome                     500\n",
       "dtype: int64"
      ]
     },
     "execution_count": 12,
     "metadata": {},
     "output_type": "execute_result"
    }
   ],
   "source": [
    "# Şimdi 0 olan değerleri görelim.\n",
    "df.eq(0).sum()"
   ]
  },
  {
   "cell_type": "code",
   "execution_count": 13,
   "metadata": {},
   "outputs": [
    {
     "data": {
      "text/html": [
       "<div>\n",
       "<style scoped>\n",
       "    .dataframe tbody tr th:only-of-type {\n",
       "        vertical-align: middle;\n",
       "    }\n",
       "\n",
       "    .dataframe tbody tr th {\n",
       "        vertical-align: top;\n",
       "    }\n",
       "\n",
       "    .dataframe thead th {\n",
       "        text-align: right;\n",
       "    }\n",
       "</style>\n",
       "<table border=\"1\" class=\"dataframe\">\n",
       "  <thead>\n",
       "    <tr style=\"text-align: right;\">\n",
       "      <th></th>\n",
       "      <th>Pregnancies</th>\n",
       "      <th>Glucose</th>\n",
       "      <th>BloodPressure</th>\n",
       "      <th>SkinThickness</th>\n",
       "      <th>Insulin</th>\n",
       "      <th>BMI</th>\n",
       "      <th>DiabetesPedigreeFunction</th>\n",
       "      <th>Age</th>\n",
       "      <th>Outcome</th>\n",
       "    </tr>\n",
       "  </thead>\n",
       "  <tbody>\n",
       "    <tr>\n",
       "      <th>Pregnancies</th>\n",
       "      <td>1.000000</td>\n",
       "      <td>0.127911</td>\n",
       "      <td>0.208522</td>\n",
       "      <td>0.082989</td>\n",
       "      <td>0.056027</td>\n",
       "      <td>0.021565</td>\n",
       "      <td>-0.033523</td>\n",
       "      <td>0.544341</td>\n",
       "      <td>0.221898</td>\n",
       "    </tr>\n",
       "    <tr>\n",
       "      <th>Glucose</th>\n",
       "      <td>0.127911</td>\n",
       "      <td>1.000000</td>\n",
       "      <td>0.218367</td>\n",
       "      <td>0.192991</td>\n",
       "      <td>0.420157</td>\n",
       "      <td>0.230941</td>\n",
       "      <td>0.137060</td>\n",
       "      <td>0.266534</td>\n",
       "      <td>0.492928</td>\n",
       "    </tr>\n",
       "    <tr>\n",
       "      <th>BloodPressure</th>\n",
       "      <td>0.208522</td>\n",
       "      <td>0.218367</td>\n",
       "      <td>1.000000</td>\n",
       "      <td>0.192816</td>\n",
       "      <td>0.072517</td>\n",
       "      <td>0.281268</td>\n",
       "      <td>-0.002763</td>\n",
       "      <td>0.324595</td>\n",
       "      <td>0.166074</td>\n",
       "    </tr>\n",
       "    <tr>\n",
       "      <th>SkinThickness</th>\n",
       "      <td>0.082989</td>\n",
       "      <td>0.192991</td>\n",
       "      <td>0.192816</td>\n",
       "      <td>1.000000</td>\n",
       "      <td>0.158139</td>\n",
       "      <td>0.542398</td>\n",
       "      <td>0.100966</td>\n",
       "      <td>0.127872</td>\n",
       "      <td>0.215299</td>\n",
       "    </tr>\n",
       "    <tr>\n",
       "      <th>Insulin</th>\n",
       "      <td>0.056027</td>\n",
       "      <td>0.420157</td>\n",
       "      <td>0.072517</td>\n",
       "      <td>0.158139</td>\n",
       "      <td>1.000000</td>\n",
       "      <td>0.166586</td>\n",
       "      <td>0.098634</td>\n",
       "      <td>0.136734</td>\n",
       "      <td>0.214411</td>\n",
       "    </tr>\n",
       "    <tr>\n",
       "      <th>BMI</th>\n",
       "      <td>0.021565</td>\n",
       "      <td>0.230941</td>\n",
       "      <td>0.281268</td>\n",
       "      <td>0.542398</td>\n",
       "      <td>0.166586</td>\n",
       "      <td>1.000000</td>\n",
       "      <td>0.153400</td>\n",
       "      <td>0.025519</td>\n",
       "      <td>0.311924</td>\n",
       "    </tr>\n",
       "    <tr>\n",
       "      <th>DiabetesPedigreeFunction</th>\n",
       "      <td>-0.033523</td>\n",
       "      <td>0.137060</td>\n",
       "      <td>-0.002763</td>\n",
       "      <td>0.100966</td>\n",
       "      <td>0.098634</td>\n",
       "      <td>0.153400</td>\n",
       "      <td>1.000000</td>\n",
       "      <td>0.033561</td>\n",
       "      <td>0.173844</td>\n",
       "    </tr>\n",
       "    <tr>\n",
       "      <th>Age</th>\n",
       "      <td>0.544341</td>\n",
       "      <td>0.266534</td>\n",
       "      <td>0.324595</td>\n",
       "      <td>0.127872</td>\n",
       "      <td>0.136734</td>\n",
       "      <td>0.025519</td>\n",
       "      <td>0.033561</td>\n",
       "      <td>1.000000</td>\n",
       "      <td>0.238356</td>\n",
       "    </tr>\n",
       "    <tr>\n",
       "      <th>Outcome</th>\n",
       "      <td>0.221898</td>\n",
       "      <td>0.492928</td>\n",
       "      <td>0.166074</td>\n",
       "      <td>0.215299</td>\n",
       "      <td>0.214411</td>\n",
       "      <td>0.311924</td>\n",
       "      <td>0.173844</td>\n",
       "      <td>0.238356</td>\n",
       "      <td>1.000000</td>\n",
       "    </tr>\n",
       "  </tbody>\n",
       "</table>\n",
       "</div>"
      ],
      "text/plain": [
       "                          Pregnancies   Glucose  BloodPressure  SkinThickness  \\\n",
       "Pregnancies                  1.000000  0.127911       0.208522       0.082989   \n",
       "Glucose                      0.127911  1.000000       0.218367       0.192991   \n",
       "BloodPressure                0.208522  0.218367       1.000000       0.192816   \n",
       "SkinThickness                0.082989  0.192991       0.192816       1.000000   \n",
       "Insulin                      0.056027  0.420157       0.072517       0.158139   \n",
       "BMI                          0.021565  0.230941       0.281268       0.542398   \n",
       "DiabetesPedigreeFunction    -0.033523  0.137060      -0.002763       0.100966   \n",
       "Age                          0.544341  0.266534       0.324595       0.127872   \n",
       "Outcome                      0.221898  0.492928       0.166074       0.215299   \n",
       "\n",
       "                           Insulin       BMI  DiabetesPedigreeFunction  \\\n",
       "Pregnancies               0.056027  0.021565                 -0.033523   \n",
       "Glucose                   0.420157  0.230941                  0.137060   \n",
       "BloodPressure             0.072517  0.281268                 -0.002763   \n",
       "SkinThickness             0.158139  0.542398                  0.100966   \n",
       "Insulin                   1.000000  0.166586                  0.098634   \n",
       "BMI                       0.166586  1.000000                  0.153400   \n",
       "DiabetesPedigreeFunction  0.098634  0.153400                  1.000000   \n",
       "Age                       0.136734  0.025519                  0.033561   \n",
       "Outcome                   0.214411  0.311924                  0.173844   \n",
       "\n",
       "                               Age   Outcome  \n",
       "Pregnancies               0.544341  0.221898  \n",
       "Glucose                   0.266534  0.492928  \n",
       "BloodPressure             0.324595  0.166074  \n",
       "SkinThickness             0.127872  0.215299  \n",
       "Insulin                   0.136734  0.214411  \n",
       "BMI                       0.025519  0.311924  \n",
       "DiabetesPedigreeFunction  0.033561  0.173844  \n",
       "Age                       1.000000  0.238356  \n",
       "Outcome                   0.238356  1.000000  "
      ]
     },
     "execution_count": 13,
     "metadata": {},
     "output_type": "execute_result"
    }
   ],
   "source": [
    "# Korelasyon analizi\n",
    "# Çıktı değişkenine hangi özelliklerin etki ettiğini korelasyon ile görebiliriz.\n",
    "df.corr()"
   ]
  },
  {
   "cell_type": "code",
   "execution_count": 14,
   "metadata": {},
   "outputs": [],
   "source": [
    "# Korelasyon grafiği için kütüphaneyi dahil ediyorum.\n",
    "import seaborn as sns"
   ]
  },
  {
   "cell_type": "code",
   "execution_count": 15,
   "metadata": {},
   "outputs": [
    {
     "data": {
      "text/plain": [
       "<Axes: >"
      ]
     },
     "execution_count": 15,
     "metadata": {},
     "output_type": "execute_result"
    },
    {
     "data": {
      "image/png": "[encoded data removed]",
      "text/plain": [
       "<Figure size 640x480 with 2 Axes>"
      ]
     },
     "metadata": {},
     "output_type": "display_data"
    }
   ],
   "source": [
    "sns.heatmap(df.corr())\n",
    "# Corelasyonun ısı haritasını çağırıyorum."
   ]
  },
  {
   "cell_type": "code",
   "execution_count": 16,
   "metadata": {},
   "outputs": [],
   "source": [
    "feature_names = df.corr().nlargest(4,'Outcome').index.tolist()\n",
    "# Özellikler 8 tane ve biz bunu 4 taneye düşürmeye çabalıyoruz.\n",
    "# Çünkü makinenin iyi anlayıp öğrenmesi için. Bu yüzden korelasyonu en yüksek olan 4 lüyü alıyorum.\n",
    "# nlargest en yüksek yani\n",
    "# Outcome, çıkışa göre hesaplattırıyorum yani\n",
    "# İndex sadece başlıkları gösteriyor.\n",
    "# toList ile de liste oluşturmuş oluyorum."
   ]
  },
  {
   "cell_type": "markdown",
   "metadata": {},
   "source": [
    "# Buraya kadar veri ön işlemesi yaptık. Özelliklerin ortaya çıkarılması işlemini yaptık ve şimdi algoritmaları çağıracağız. Verimiz analize hazır hale geldi . Algoritmalarımızı eğitmeye çalışıp çıktıları alcaz.\n"
   ]
  },
  {
   "cell_type": "code",
   "execution_count": 17,
   "metadata": {},
   "outputs": [],
   "source": [
    "# Verimde olmaması gereken mantıksız 0 lar vardı mesela kan basıncı 0 gibi bunların hepsini aldım ve nan yapıp ondan sonra \n",
    "# Diğer verilere göre ortalama işlemi uygulayarak düzelttim.\n",
    "# Çünkü makinenin iyi anlayıp öğrenmesi için, korelasyonu en yüksek olan 4 lüyü alıyorum. "
   ]
  },
  {
   "cell_type": "markdown",
   "metadata": {},
   "source": [
    "Kullanılacak algoritmalar\n",
    "\n",
    "1- Lojistik Regresyon\n",
    "2- Destek Vektör Regresyon (SVM)\n",
    "3- Decision Tree ( Karar ağaçları )"
   ]
  },
  {
   "cell_type": "code",
   "execution_count": 18,
   "metadata": {},
   "outputs": [],
   "source": [
    "from sklearn import linear_model\n",
    "from sklearn.model_selection import cross_val_score\n",
    "# from sklearn import linear_model ile sklearn kütüphanesinden linear modelleme algoritmalarını içe aktarıyorum.\n",
    "# Peki bunu neden yapıyorum? Linear modelleme algoritmalarından birisi olan logistik regresyonu kullanmak için.\n",
    "# from sklearn.model_selection import cross_val_score –  cross_val_score sklearnin model selection nın içerisinde imiş.\n",
    "# Kaliteyi ölçmek için cross validation yapıcaz. Mesela k=10 ise 10 tane veriden 1 tane öğrenme yaptırıyoruz.\n",
    "# Böylelikle tüm hepsini ezberlemesinin önüne geçmiş oluyoruz."
   ]
  },
  {
   "cell_type": "code",
   "execution_count": 19,
   "metadata": {},
   "outputs": [],
   "source": [
    "X = df[['Glucose','BMI','Age']]\n",
    "y=df.iloc[:,8]\n",
    "# y = df.iloc[:, 8] – Burda iloc değerlerini alıyoruz. Yani : satırlardaki bütün değerleri al. Sütünda ise 8. Yi alıyorum. Yani outcome ı alıyorum.\n",
    "# X de ise korelasyonu en yüksek olanları atadım."
   ]
  },
  {
   "cell_type": "code",
   "execution_count": 20,
   "metadata": {},
   "outputs": [
    {
     "data": {
      "text/plain": [
       "0      1\n",
       "1      0\n",
       "2      1\n",
       "3      0\n",
       "4      1\n",
       "      ..\n",
       "763    0\n",
       "764    0\n",
       "765    0\n",
       "766    1\n",
       "767    0\n",
       "Name: Outcome, Length: 768, dtype: int64"
      ]
     },
     "execution_count": 20,
     "metadata": {},
     "output_type": "execute_result"
    }
   ],
   "source": [
    "y\n",
    "# Burda sonuca baktım."
   ]
  },
  {
   "cell_type": "code",
   "execution_count": 21,
   "metadata": {},
   "outputs": [],
   "source": [
    "log_reg = linear_model.LogisticRegression()\n",
    "# Burda logistik regresyonu çağırdık."
   ]
  },
  {
   "cell_type": "code",
   "execution_count": 22,
   "metadata": {},
   "outputs": [],
   "source": [
    "log_reg_score = cross_val_score(log_reg,X,y,cv=10,scoring='accuracy').mean()\n",
    "# Lojistik regresyon algoritmamızın scorunu cross validation kullanarak buna 10 vererek doğruluk oranının ortalamasını hesaplattırıyoruz."
   ]
  },
  {
   "cell_type": "code",
   "execution_count": 23,
   "metadata": {},
   "outputs": [
    {
     "data": {
      "text/plain": [
       "0.7669856459330144"
      ]
     },
     "execution_count": 23,
     "metadata": {},
     "output_type": "execute_result"
    }
   ],
   "source": [
    "log_reg_score\n",
    "# Sonra score muzun sonucuna bakıyoruz.\n",
    "# Bu 500 tane 0 varsa ben bu 500 0 ın %76 sını doğru bilmişim gibi düşünebiliriz."
   ]
  },
  {
   "cell_type": "code",
   "execution_count": 24,
   "metadata": {},
   "outputs": [],
   "source": [
    "results=[]\n",
    "results.append(log_reg_score)\n",
    "# Results diye sonuçları bir dizide tutmak için bir dizi oluşturdum.\n",
    "# Burdada lojistik regresyondan aldığımız scoreu diziye atıyorum."
   ]
  },
  {
   "cell_type": "code",
   "execution_count": 25,
   "metadata": {},
   "outputs": [
    {
     "data": {
      "text/plain": [
       "[0.7669856459330144]"
      ]
     },
     "execution_count": 25,
     "metadata": {},
     "output_type": "execute_result"
    }
   ],
   "source": [
    "results\n",
    "# Burda gösterttim sadece"
   ]
  },
  {
   "cell_type": "code",
   "execution_count": 26,
   "metadata": {},
   "outputs": [],
   "source": [
    "from sklearn import svm\n",
    "# sklearn kütüphanesinden 2. algoritmamız olan svm algoritmamızı dahil ediyoruz.\n"
   ]
  },
  {
   "cell_type": "code",
   "execution_count": 27,
   "metadata": {},
   "outputs": [],
   "source": [
    "linear_svm = svm.SVC(kernel='linear')\n",
    "# SVC sınıfı, Support Vector Classification için kullanılıyor.\n",
    "# kernel da seçim yapıyorum ve linear sınıflandırma olmasını istiyorum.\n",
    "# Peki linar sınıflandırma ne oluyor? Veri setindeki sınıflar için doğrusal ayrım yaparak öğrenmeye çabalıyor.\n",
    "# Doğrusal ayrım derken? SVM, sınıflar arasında bir hiper düzlem oluşturarak, bu düzlem üzerindeki örnekleri sınıflara göre ayırmaya çalışıyor.\n",
    "# Bunu linear_svm ye atayarak bir model oluşturuyoruz ve bunu aşağıda kullanacağım."
   ]
  },
  {
   "cell_type": "code",
   "execution_count": 28,
   "metadata": {},
   "outputs": [],
   "source": [
    "linear_svm_score = cross_val_score(linear_svm,X,y,cv=10,scoring='accuracy').mean()\n",
    "# SVM algoritmamızın scorunu cross validation kullanarak buna 10 vererek doğruluk oranının ortalamasını hesaplattırıyoruz.\n",
    "# cv=10 olması demek Veri setini 10 eşit parçaya böler.\n",
    "# Her bir parça için modelin performansını değerlendirir ve bu değerlerin ortalamasını alarak modelin genel performansını ölçer."
   ]
  },
  {
   "cell_type": "code",
   "execution_count": 29,
   "metadata": {},
   "outputs": [
    {
     "data": {
      "text/plain": [
       "0.7656527682843473"
      ]
     },
     "execution_count": 29,
     "metadata": {},
     "output_type": "execute_result"
    }
   ],
   "source": [
    "linear_svm_score\n",
    "# Score umuza burda baktık."
   ]
  },
  {
   "cell_type": "code",
   "execution_count": 30,
   "metadata": {},
   "outputs": [],
   "source": [
    "results.append(linear_svm_score)\n",
    "# Diziye ekledik"
   ]
  },
  {
   "cell_type": "code",
   "execution_count": 31,
   "metadata": {},
   "outputs": [
    {
     "data": {
      "text/plain": [
       "[0.7669856459330144, 0.7656527682843473]"
      ]
     },
     "execution_count": 31,
     "metadata": {},
     "output_type": "execute_result"
    }
   ],
   "source": [
    "results\n",
    "# Sonuçlara baktık"
   ]
  },
  {
   "cell_type": "code",
   "execution_count": 32,
   "metadata": {},
   "outputs": [],
   "source": [
    "from sklearn.tree import DecisionTreeClassifier\n",
    "# sklearnın tree kütüphanesinden decision tree algoritmamızı kullanmak için decisiontreeclassifier sınıfını  dahil ediyoruz."
   ]
  },
  {
   "cell_type": "code",
   "execution_count": 33,
   "metadata": {},
   "outputs": [],
   "source": [
    "decision_tree = DecisionTreeClassifier()\n",
    "# Sınıfı bir değişkene atadım ve altta bu algoritmayı kullanacağım."
   ]
  },
  {
   "cell_type": "code",
   "execution_count": 34,
   "metadata": {},
   "outputs": [],
   "source": [
    "decision_tree_score = cross_val_score(decision_tree, X, y, cv=10, scoring='accuracy').mean()\n",
    "# Diğer algoritmalardaki gibi uyguladık."
   ]
  },
  {
   "cell_type": "code",
   "execution_count": 35,
   "metadata": {},
   "outputs": [],
   "source": [
    "results.append(decision_tree_score)\n",
    "# Sonuçlar dizisine ekledik."
   ]
  },
  {
   "cell_type": "code",
   "execution_count": 36,
   "metadata": {},
   "outputs": [
    {
     "data": {
      "text/plain": [
       "[0.7669856459330144, 0.7656527682843473, 0.6822453861927547]"
      ]
     },
     "execution_count": 36,
     "metadata": {},
     "output_type": "execute_result"
    }
   ],
   "source": [
    "results\n",
    "# Sonuçları görüntüledim."
   ]
  },
  {
   "cell_type": "code",
   "execution_count": 37,
   "metadata": {},
   "outputs": [],
   "source": [
    "# Bu bizim modeli kaydetmemizi sağlıyor. Mesela katsayılar nelerse sonuçlar nelerse kaydediyor.\n",
    "# Bu ne işimize yarayacak? Mesela modelimiz için güzel bir şansa bir güzel bir sonuç elde ettik.\n",
    "# Bunu kaydediyoruz ki başka bilgisayarda vs kullanıldığı zaman tekrardan bir sonuç üretmek yerine kaydedilen güzel sonuca göre modelimizi kullanacağız.\n",
    "import pickle"
   ]
  },
  {
   "cell_type": "code",
   "execution_count": 38,
   "metadata": {},
   "outputs": [],
   "source": [
    "filename='diabets.sav'\n",
    "# filename adlı değişkene diabets.sav olarak kaydetsin diyorum.\n",
    "# Neden .sav? Çünkü bilindik bir veriseti uzantısı."
   ]
  },
  {
   "cell_type": "code",
   "execution_count": 39,
   "metadata": {},
   "outputs": [],
   "source": [
    "log_reg.fit(X,y)\n",
    "# Burda lojistik regresyonda öğrenme gerçekleştiriyoruz. Neden lojistik? Çünkü en iyi sonucu o verdi.\n",
    "pickle.dump(log_reg,open(filename,'wb'))\n",
    "# Dump komutu ile save yapıyoruz.\n",
    "# Open ile dosyayı wb (write binary) modunda açıyoruz. Biz burda dosyayı yazmak için açıyoruz.\n",
    "# Binary modunda yani 0 lı 1 li yazmamızın sebebi dosya küçük olsun sadece pickle okusun insanın okumasına gerek yok diyoruz.\n"
   ]
  },
  {
   "cell_type": "code",
   "execution_count": 40,
   "metadata": {},
   "outputs": [],
   "source": [
    "# Burda ise kaydettiğimiz modeli okuma amaçlı read binary ile açıyoruz.\n",
    "# Açtıktan sonra da kullanıyorum.\n",
    "loaded_model = pickle.load(open(filename,'rb'))"
   ]
  },
  {
   "cell_type": "code",
   "execution_count": 41,
   "metadata": {
    "scrolled": false
   },
   "outputs": [
    {
     "name": "stderr",
     "output_type": "stream",
     "text": [
      "C:\\ProgramData\\anaconda3\\Lib\\site-packages\\sklearn\\base.py:465: UserWarning: X does not have valid feature names, but LogisticRegression was fitted with feature names\n",
      "  warnings.warn(\n"
     ]
    }
   ],
   "source": [
    "# prediction = tahmin \n",
    "# Burda bir tane rastgele bir deneme yapıyorum. Bir kişi oluşturuyorum.\n",
    "Glucose = 360\n",
    "BMI = 19\n",
    "Age = 25\n",
    "prediction = loaded_model.predict([[Glucose,BMI,Age]])\n",
    "# Açtığımız modeli predict ile verilen başlıklara göre tahmin yaptırıyoruz.\n",
    "# Alttaki yazıda bizim verdiğimiz başlıkların modelin başlıklarıyla aynı olmadığını gösteriyor. Ancak bu bir hata değil.\n",
    "# Sorun çıkartmayacaktır.\n",
    "# Ancak yine de aynı olsun istersek belirli if koşulları uygulayıp yapılabilir."
   ]
  },
  {
   "cell_type": "code",
   "execution_count": 42,
   "metadata": {},
   "outputs": [
    {
     "data": {
      "text/plain": [
       "array([1], dtype=int64)"
      ]
     },
     "execution_count": 42,
     "metadata": {},
     "output_type": "execute_result"
    }
   ],
   "source": [
    "prediction\n",
    "# Burda tahminimizin sonucuna bakıyoruz ve 1 sonucunu bize döndürüyor. Yani kişi şeker hastası."
   ]
  },
  {
   "cell_type": "markdown",
   "metadata": {},
   "source": [
    "OVERFİTTİNG ANALİZİ"
   ]
  },
  {
   "cell_type": "code",
   "execution_count": 43,
   "metadata": {},
   "outputs": [],
   "source": [
    "from sklearn.model_selection import train_test_split\n",
    "# Burda sklearn kütüphanesinin model selectionundan modeli train ve test olarak bölmek için train_test_split fonksiyonunu dahil ediyoruz.\n",
    "# X bizim veri başlıklarımız yani bağımsız değişkenlerimiz.\n",
    "# y ise bizim outcome mız yani bağımlı değişkenimiz.\n",
    "X_train, X_test, y_train, y_test = train_test_split(X, y, test_size=0.2, random_state=42)\n",
    "# 0.2 vermem ile birlikte veri setimin %80 i eğitim, %20 si test seti olarak parçalamış oluyorum.\n",
    "# random_state e rastgele bir sayı veriyorum ve burda rastgele sayı üretme başlangıç noktamı belirliyorum.\n",
    "# Böylelikle her çalıştırma da aynı bölünme elde ediliyor.\n",
    "# Yani, aynı kodu farklı zamanlarda veya farklı bilgisayarlarda çalıştırdığımızda, veri setinin eğitim ve test kümeleri aynı şekilde bölünmüş oluyor.\n",
    "# X_train ve y_train %80 lik kısmı oluyor yani."
   ]
  },
  {
   "cell_type": "code",
   "execution_count": 44,
   "metadata": {},
   "outputs": [
    {
     "data": {
      "text/html": [
       "<style>#sk-container-id-1 {color: black;}#sk-container-id-1 pre{padding: 0;}#sk-container-id-1 div.sk-toggleable {background-color: white;}#sk-container-id-1 label.sk-toggleable__label {cursor: pointer;display: block;width: 100%;margin-bottom: 0;padding: 0.3em;box-sizing: border-box;text-align: center;}#sk-container-id-1 label.sk-toggleable__label-arrow:before {content: \"▸\";float: left;margin-right: 0.25em;color: #696969;}#sk-container-id-1 label.sk-toggleable__label-arrow:hover:before {color: black;}#sk-container-id-1 div.sk-estimator:hover label.sk-toggleable__label-arrow:before {color: black;}#sk-container-id-1 div.sk-toggleable__content {max-height: 0;max-width: 0;overflow: hidden;text-align: left;background-color: #f0f8ff;}#sk-container-id-1 div.sk-toggleable__content pre {margin: 0.2em;color: black;border-radius: 0.25em;background-color: #f0f8ff;}#sk-container-id-1 input.sk-toggleable__control:checked~div.sk-toggleable__content {max-height: 200px;max-width: 100%;overflow: auto;}#sk-container-id-1 input.sk-toggleable__control:checked~label.sk-toggleable__label-arrow:before {content: \"▾\";}#sk-container-id-1 div.sk-estimator input.sk-toggleable__control:checked~label.sk-toggleable__label {background-color: #d4ebff;}#sk-container-id-1 div.sk-label input.sk-toggleable__control:checked~label.sk-toggleable__label {background-color: #d4ebff;}#sk-container-id-1 input.sk-hidden--visually {border: 0;clip: rect(1px 1px 1px 1px);clip: rect(1px, 1px, 1px, 1px);height: 1px;margin: -1px;overflow: hidden;padding: 0;position: absolute;width: 1px;}#sk-container-id-1 div.sk-estimator {font-family: monospace;background-color: #f0f8ff;border: 1px dotted black;border-radius: 0.25em;box-sizing: border-box;margin-bottom: 0.5em;}#sk-container-id-1 div.sk-estimator:hover {background-color: #d4ebff;}#sk-container-id-1 div.sk-parallel-item::after {content: \"\";width: 100%;border-bottom: 1px solid gray;flex-grow: 1;}#sk-container-id-1 div.sk-label:hover label.sk-toggleable__label {background-color: #d4ebff;}#sk-container-id-1 div.sk-serial::before {content: \"\";position: absolute;border-left: 1px solid gray;box-sizing: border-box;top: 0;bottom: 0;left: 50%;z-index: 0;}#sk-container-id-1 div.sk-serial {display: flex;flex-direction: column;align-items: center;background-color: white;padding-right: 0.2em;padding-left: 0.2em;position: relative;}#sk-container-id-1 div.sk-item {position: relative;z-index: 1;}#sk-container-id-1 div.sk-parallel {display: flex;align-items: stretch;justify-content: center;background-color: white;position: relative;}#sk-container-id-1 div.sk-item::before, #sk-container-id-1 div.sk-parallel-item::before {content: \"\";position: absolute;border-left: 1px solid gray;box-sizing: border-box;top: 0;bottom: 0;left: 50%;z-index: -1;}#sk-container-id-1 div.sk-parallel-item {display: flex;flex-direction: column;z-index: 1;position: relative;background-color: white;}#sk-container-id-1 div.sk-parallel-item:first-child::after {align-self: flex-end;width: 50%;}#sk-container-id-1 div.sk-parallel-item:last-child::after {align-self: flex-start;width: 50%;}#sk-container-id-1 div.sk-parallel-item:only-child::after {width: 0;}#sk-container-id-1 div.sk-dashed-wrapped {border: 1px dashed gray;margin: 0 0.4em 0.5em 0.4em;box-sizing: border-box;padding-bottom: 0.4em;background-color: white;}#sk-container-id-1 div.sk-label label {font-family: monospace;font-weight: bold;display: inline-block;line-height: 1.2em;}#sk-container-id-1 div.sk-label-container {text-align: center;}#sk-container-id-1 div.sk-container {/* jupyter's `normalize.less` sets `[hidden] { display: none; }` but bootstrap.min.css set `[hidden] { display: none !important; }` so we also need the `!important` here to be able to override the default hidden behavior on the sphinx rendered scikit-learn.org. See: https://github.com/scikit-learn/scikit-learn/issues/21755 */display: inline-block !important;position: relative;}#sk-container-id-1 div.sk-text-repr-fallback {display: none;}</style><div id=\"sk-container-id-1\" class=\"sk-top-container\"><div class=\"sk-text-repr-fallback\"><pre>DecisionTreeClassifier()</pre><b>In a Jupyter environment, please rerun this cell to show the HTML representation or trust the notebook. <br />On GitHub, the HTML representation is unable to render, please try loading this page with nbviewer.org.</b></div><div class=\"sk-container\" hidden><div class=\"sk-item\"><div class=\"sk-estimator sk-toggleable\"><input class=\"sk-toggleable__control sk-hidden--visually\" id=\"sk-estimator-id-1\" type=\"checkbox\" checked><label for=\"sk-estimator-id-1\" class=\"sk-toggleable__label sk-toggleable__label-arrow\">DecisionTreeClassifier</label><div class=\"sk-toggleable__content\"><pre>DecisionTreeClassifier()</pre></div></div></div></div></div>"
      ],
      "text/plain": [
       "DecisionTreeClassifier()"
      ]
     },
     "execution_count": 44,
     "metadata": {},
     "output_type": "execute_result"
    }
   ],
   "source": [
    "log_reg.fit(X_train, y_train)\n",
    "linear_svm.fit(X_train, y_train)\n",
    "decision_tree.fit(X_train, y_train)\n",
    "# Burda ise tüm modellerimizi train seti ile eğitiyoruz.\n",
    "# Neden diğer modeller de çıktı vermedi de karar ağacında çıktı verdi?\n",
    "# Karar ağacında diğer algoritmalardan farklı olarak ağacının nasıl büyütüleceği ve düğümlerin bölünmesiyle ilgili olanlar vs çıktıda görünür."
   ]
  },
  {
   "cell_type": "code",
   "execution_count": 45,
   "metadata": {},
   "outputs": [],
   "source": [
    "log_reg_test_score = log_reg.score(X_test, y_test)\n",
    "linear_svm_test_score = linear_svm.score(X_test, y_test)\n",
    "decision_tree_test_score = decision_tree.score(X_test, y_test)\n",
    "# Burda ise her modelin test kümesi üzerinde model performansını değerlendiriyor ve değişkenlere atıyoruz."
   ]
  },
  {
   "cell_type": "code",
   "execution_count": 46,
   "metadata": {},
   "outputs": [
    {
     "name": "stdout",
     "output_type": "stream",
     "text": [
      "Logistic Regression Test Score: 0.7532467532467533\n",
      "Linear SVM Test Score: 0.7597402597402597\n",
      "Decision Tree Test Score: 0.6818181818181818\n"
     ]
    }
   ],
   "source": [
    "print(\"Logistic Regression Test Score:\", log_reg_test_score)\n",
    "print(\"Linear SVM Test Score:\", linear_svm_test_score)\n",
    "print(\"Decision Tree Test Score:\", decision_tree_test_score)\n",
    "# Burdada sonuçları yazdırdık.\n",
    "# Overfitting, eğitim seti üzerindeki başarı oranının (accuracy) test seti üzerindeki başarı oranından belirgin şekilde daha yüksek olması durumunda ortaya çıkıyor.\n",
    "# Üstte logistic regression score muz 0.7656527682843473 çıktıydı arada küçük fark olduğundan overfitting gözükmüyor."
   ]
  },
  {
   "cell_type": "markdown",
   "metadata": {},
   "source": [
    "OVERFİTTİNG ANALİZİ BİTİŞ VE  CONFUSİON MATRİX BAŞLANGIÇ"
   ]
  },
  {
   "cell_type": "code",
   "execution_count": 47,
   "metadata": {},
   "outputs": [
    {
     "data": {
      "image/png": "[encoded data removed]",
      "text/plain": [
       "<Figure size 600x600 with 1 Axes>"
      ]
     },
     "metadata": {},
     "output_type": "display_data"
    },
    {
     "data": {
      "image/png": "[encoded data removed]",
      "text/plain": [
       "<Figure size 600x600 with 1 Axes>"
      ]
     },
     "metadata": {},
     "output_type": "display_data"
    },
    {
     "data": {
      "image/png": "[encoded data removed]",
      "text/plain": [
       "<Figure size 600x600 with 1 Axes>"
      ]
     },
     "metadata": {},
     "output_type": "display_data"
    }
   ],
   "source": [
    "from sklearn.metrics import confusion_matrix\n",
    "# sklearn kütüphanesinin metrics kısmından confusion_matrix kütüphanesini matrixi çizdirmek için dahil ediyoruz.\n",
    "import matplotlib.pyplot as plt\n",
    "# plt kütüphanesini aşağıda çizim için kullanıyorum.\n",
    "import seaborn as sns\n",
    "# Matriximizi daha estetik ve anlaşılır şekilde göstermek için bu kütüphaneyi tekrardan dahil ediyorum.\n",
    "\n",
    "# Logistic Regression\n",
    "log_reg.fit(X_train, y_train)\n",
    "# Burda model eğitildi.\n",
    "log_reg_predictions = log_reg.predict(X_test)\n",
    "# Tahmin yapıldı. x_Test: Modelin performansını değerlendirmek için kullanılan test veri setidir.\n",
    "log_reg_conf_matrix = confusion_matrix(y_test, log_reg_predictions)\n",
    "# confusion_matrix fonksiyonu gerçek etiketlerle yani y_Test ile karşılaştırarak matriximizi oluşturuyor.\n",
    "# Yani x test bizim kendimizin test veri seti y test ise gerçek etiketlerin oluşturduğu veri seti.\n",
    "\n",
    "# SVM (Linear)\n",
    "linear_svm.fit(X_train, y_train)\n",
    "linear_svm_predictions = linear_svm.predict(X_test)\n",
    "linear_svm_conf_matrix = confusion_matrix(y_test, linear_svm_predictions)\n",
    "# Burdada aynı şekilde\n",
    "\n",
    "# Decision Tree\n",
    "decision_tree.fit(X_train, y_train)\n",
    "decision_tree_predictions = decision_tree.predict(X_test)\n",
    "decision_tree_conf_matrix = confusion_matrix(y_test, decision_tree_predictions)\n",
    "# Burdada aynı şekilde\n",
    "\n",
    "# Confusion matrix görselleştirme fonksiyonu\n",
    "def plot_confusion_matrix(conf_matrix, title):\n",
    "    plt.figure(figsize=(6, 6))\n",
    "    # 6x6 lık bir figüre oluşturduk.\n",
    "    sns.heatmap(conf_matrix, annot=True, fmt=\"d\", cmap=\"Greens\", cbar=False,\n",
    "                xticklabels=['Not Diabetic', 'Diabetic'],\n",
    "                yticklabels=['Not Diabetic', 'Diabetic'])\n",
    "    # heatmap fonksiyonu ile karmaşıklık matrisimizi görselleştiriyoruz.\n",
    "    # annot=True ile her hücreye değerlerin eklenmesi sağlanıyor\n",
    "    # fmt=\"d\" ile değerler tam sayı formatında gösteriliyor.\n",
    "    # cmap ile rengimizi ayarladık.\n",
    "    # cbar false ile de yanda renk çubuğu olmasın diyorum.\n",
    "    # xticklabels ve yticklabels da etiketlerimiz ayarlıyoruz.\n",
    "    plt.title(title)\n",
    "    # Grafik başlığı ayarlanıyor\n",
    "    plt.xlabel('Predicted')\n",
    "    # Burdada tahmin edilen x etiketi ayarlanıyor.\n",
    "    plt.ylabel('Actual')\n",
    "    # Burda ise gerçek olan y etiketi ayarlanıyor.\n",
    "    plt.show()\n",
    "    # Gösterdik.\n",
    "\n",
    "# Burda ise matrixlerimizi fonksiyonumuza gönderiyoruz ve çalışıyor.\n",
    "plot_confusion_matrix(log_reg_conf_matrix, 'Logistic Regression Confusion Matrix')\n",
    "plot_confusion_matrix(linear_svm_conf_matrix, 'Linear SVM Confusion Matrix')\n",
    "plot_confusion_matrix(decision_tree_conf_matrix, 'Decision Tree Confusion Matrix')\n"
   ]
  },
  {
   "cell_type": "markdown",
   "metadata": {},
   "source": [
    "CONFUSİON MATRİX BİTİŞ VE DEĞERLENDİRME METRİKLERİ ( ACCURACY, PRECESİON, RECALL, FSCORE) BAŞLANGIÇ"
   ]
  },
  {
   "cell_type": "code",
   "execution_count": 48,
   "metadata": {},
   "outputs": [
    {
     "name": "stdout",
     "output_type": "stream",
     "text": [
      "Logistic Regression Metrics:\n",
      "Accuracy: 0.7532467532467533\n",
      "Precision: 0.660377358490566\n",
      "Recall: 0.6363636363636364\n",
      "F1-Score: 0.6481481481481481\n",
      "\n",
      "\n",
      "Linear SVM Metrics:\n",
      "Accuracy: 0.7597402597402597\n",
      "Precision: 0.6730769230769231\n",
      "Recall: 0.6363636363636364\n",
      "F1-Score: 0.6542056074766355\n",
      "\n",
      "\n",
      "Decision Tree Metrics:\n",
      "Accuracy: 0.6818181818181818\n",
      "Precision: 0.5517241379310345\n",
      "Recall: 0.5818181818181818\n",
      "F1-Score: 0.5663716814159292\n"
     ]
    }
   ],
   "source": [
    "from sklearn.metrics import accuracy_score, precision_score, recall_score, f1_score\n",
    "# Burda sklearn kütüphanesinde metrics kısmından gerekli metrik fonksiyonlarını dahil ediyoruz.\n",
    "# Burda üsttekiler gibi tahminleri ve gerçeği yolladım ve metrikleri hesaplattırıyoruz.\n",
    "# Accuracy = doğruluk oranı \n",
    "# Precision = Pozitif olarak tahmin edilen örneklerin gerçekte pozitif olma olasılığını ölçüyor. Bu olasılık.\n",
    "# Recall = Gerçekte pozitif olan örneklerin ne kadarının model tarafından doğru bir şekilde pozitif olarak tahmin edildiğini ölçüyor.\n",
    "# F1-Score = Precision ve Recallı birleştiren modelin ne kadar iyi performans gösterdiğini değerlendirmek için kullanılıyor. \n",
    "\n",
    "# Logistic Regression\n",
    "log_reg_accuracy = accuracy_score(y_test, log_reg_predictions)\n",
    "log_reg_precision = precision_score(y_test, log_reg_predictions)\n",
    "log_reg_recall = recall_score(y_test, log_reg_predictions)\n",
    "log_reg_f1 = f1_score(y_test, log_reg_predictions)\n",
    "\n",
    "# SVM (Linear)\n",
    "linear_svm_accuracy = accuracy_score(y_test, linear_svm_predictions)\n",
    "linear_svm_precision = precision_score(y_test, linear_svm_predictions)\n",
    "linear_svm_recall = recall_score(y_test, linear_svm_predictions)\n",
    "linear_svm_f1 = f1_score(y_test, linear_svm_predictions)\n",
    "\n",
    "# Decision Tree\n",
    "decision_tree_accuracy = accuracy_score(y_test, decision_tree_predictions)\n",
    "decision_tree_precision = precision_score(y_test, decision_tree_predictions)\n",
    "decision_tree_recall = recall_score(y_test, decision_tree_predictions)\n",
    "decision_tree_f1 = f1_score(y_test, decision_tree_predictions)\n",
    "\n",
    "# Sonuçları görüntüleme\n",
    "print(\"Logistic Regression Metrics:\")\n",
    "print(f\"Accuracy: {log_reg_accuracy}\")\n",
    "print(f\"Precision: {log_reg_precision}\")\n",
    "print(f\"Recall: {log_reg_recall}\")\n",
    "print(f\"F1-Score: {log_reg_f1}\")\n",
    "print(\"\\n\")\n",
    "\n",
    "print(\"Linear SVM Metrics:\")\n",
    "print(f\"Accuracy: {linear_svm_accuracy}\")\n",
    "print(f\"Precision: {linear_svm_precision}\")\n",
    "print(f\"Recall: {linear_svm_recall}\")\n",
    "print(f\"F1-Score: {linear_svm_f1}\")\n",
    "print(\"\\n\")\n",
    "\n",
    "print(\"Decision Tree Metrics:\")\n",
    "print(f\"Accuracy: {decision_tree_accuracy}\")\n",
    "print(f\"Precision: {decision_tree_precision}\")\n",
    "print(f\"Recall: {decision_tree_recall}\")\n",
    "print(f\"F1-Score: {decision_tree_f1}\")\n"
   ]
  },
  {
   "cell_type": "markdown",
   "metadata": {},
   "source": [
    "Bitti 1-\tDeğerlendirme metrikleri olarak Accuracy, Precesion, Recall, Fscore olacak"
   ]
  },
  {
   "cell_type": "markdown",
   "metadata": {},
   "source": [
    "ROC EĞRİSİ"
   ]
  },
  {
   "cell_type": "code",
   "execution_count": 49,
   "metadata": {},
   "outputs": [
    {
     "data": {
      "image/png": "[encoded data removed]",
      "text/plain": [
       "<Figure size 800x800 with 1 Axes>"
      ]
     },
     "metadata": {},
     "output_type": "display_data"
    }
   ],
   "source": [
    "# ROC eğrisi: \n",
    "from sklearn.metrics import roc_curve, roc_auc_score\n",
    "# Sklearn kütüphanesinden metrics kısmından üstteki 2 metriği dahil ediyoruz.\n",
    "import matplotlib.pyplot as plt\n",
    "# Çizim yapmak için matplotlib kütüphanesini dahil ediyoruz.\n",
    "\n",
    "# Logistic Regression\n",
    "log_reg_probs = log_reg.predict_proba(X_test)[:, 1]\n",
    "# Log_reg modelimizin predict_proba fonksiyonu kullanarak x_Test üzerinde tahmin olasılıkları elde ediyoruz.\n",
    "# [:, 1] ile sadece 1 sınıfına ait olasılıkları alıyoruz. Yoksa predict_proba hepsini alır. Yani diyabetsizi almıyoruz.\n",
    "fpr_log_reg, tpr_log_reg, _ = roc_curve(y_test, log_reg_probs)\n",
    "# fpr (false pozitive rate = modelin gerçekte negatif olanları ne kadar yanlış tahmin ettiğiinn ölçüsü)\n",
    "# tpr ( true pozitive rate ) = modelin gerçekte pozitif olanları doğru bir şekilde ne kadar pozitif olarak tahmin ettiğinin ölçüsü\n",
    "# roc curve ye y test gerçek sınıfları ve modelin tahmin ettiği olasılıkları veririz.\n",
    "# Roc curve de roc eğrisini çizdirmek için kullanılan bir fonksiyon\n",
    "roc_auc_log_reg = roc_auc_score(y_test, log_reg_probs)\n",
    "# Auc modelin performansını ölçer ve 1 e ne kadar yakınsa modelin performansı o kadar iyidddir.\n",
    "# Burdada değişkene atıyoruz scoremuzu.\n",
    "\n",
    "# Linear SVM\n",
    "linear_svm_probs = linear_svm.decision_function(X_test)\n",
    "# svm modelinin karar fonksiyonu deperlerini değişkene atıyoruz.\n",
    "# Pozitif ise 1. sınıfa değilse 2. sınıfa atar.\n",
    "# lineer regresyon : bağımlı değişkenin sürekli bir değer alması gereken regresyon problemlerini kullanıyor\n",
    "# Yani ev fiyat tahmini gibi\n",
    "# SVM : İki sınıf arasında bir ayrım yapmak için kullanılan sınıflandırma algoritması.\n",
    "# Bu yüzden svm de karar fonksiyonu var.\n",
    "fpr_linear_svm, tpr_linear_svm, _ = roc_curve(y_test, linear_svm_probs)\n",
    "# Üstteki yaptığımız işlemin aynısı.\n",
    "roc_auc_linear_svm = roc_auc_score(y_test, linear_svm_probs)\n",
    "# Burasıda üsttekinin aynısı.\n",
    "\n",
    "# Decision Tree\n",
    "decision_tree_probs = decision_tree.predict_proba(X_test)[:, 1]\n",
    "fpr_decision_tree, tpr_decision_tree, _ = roc_curve(y_test, decision_tree_probs)\n",
    "roc_auc_decision_tree = roc_auc_score(y_test, decision_tree_probs)\n",
    "\n",
    "# ROC eğrisini çizme\n",
    "plt.figure(figsize=(8, 8))\n",
    "# 8 e 8 lik çizdiriyoruz.\n",
    "plt.plot(fpr_log_reg, tpr_log_reg, label=f'Logistic Regression (AUC = {roc_auc_log_reg:.2f})')\n",
    "# Burda çizimi yapıyoruz ve fpr ve tpr sırası ile yatay ve dikey eksenleri temsil ediyor.\n",
    "# label üstteki etiket ismi \n",
    "# Auc ise çizgimiz .2f olması ise virgülden sonra 2 basamak görüntülenmesini sağlar.\n",
    "plt.plot(fpr_linear_svm, tpr_linear_svm, label=f'Linear SVM (AUC = {roc_auc_linear_svm:.2f})')\n",
    "plt.plot(fpr_decision_tree, tpr_decision_tree, label=f'Decision Tree (AUC = {roc_auc_decision_tree:.2f})')\n",
    "\n",
    "plt.plot([0, 1], [0, 1], linestyle='--', color='gray', label='Random')\n",
    "# Burda ise random çizgisi çekiyoruz Bu çizgi ne işe yarıyor der isek ? \n",
    "# Roc eğrisinin üzerinde rastgele tahmin yapmamıza olanak sağlıyor.\n",
    "# Çizginin üstünde ise o zaman rastegele tahmin yapan modele göre iyi performans sergilediğini gösteriyor.\n",
    "# Eğer çok yakınsa rastgele tahminle benzerdir.\n",
    "\n",
    "plt.xlabel('False Positive Rate')\n",
    "plt.ylabel('True Positive Rate')\n",
    "plt.title('Receiver Operating Characteristic (ROC) Curve')\n",
    "plt.legend()\n",
    "# Her çizginin hangi modele ait olduğunu görebiliyoruz sol üstte.\n",
    "plt.show()\n",
    "\n",
    "# fpr (false pozitive rate = modelin gerçekte negatif olanları ne kadar yanlış tahmin ettiğiinn ölçüsü idi\n",
    "# tpr ( true pozitive rate ) = modelin gerçekte pozitif olanları doğru bir şekilde ne kadar pozitif olarak tahmin ettiğinin ölçüsüydü\n",
    "# Model sol üste ne kadar yakınsa o kadar iyi ondan sonra sabit bir çizgi olmalı .\n",
    "# Burda modelin AUC scorelarına bakıldığı zaman orta üstü olduğu gördüm ben. "
   ]
  },
  {
   "cell_type": "code",
   "execution_count": 50,
   "metadata": {},
   "outputs": [],
   "source": [
    "# Lineer regresyon, doğrusal ilişkileri modellemeye daha uygundur. Eğer veriler arasında doğrusal bir ilişki varsa, lineer regresyon bu ilişkiyi iyi bir şekilde yakalayabilir.\n",
    "# Karar ağaçları ise veri setindeki non-lineer ilişkileri ve etkileşimleri daha iyi öğrenebiliyor.\n",
    "# Zaten svm de lineear olduğu için oda hemen hemen aynı score vardı. \n",
    "# Yani özetlemek gerekirse verilerimiz arasında doğrusal bir ilişki olduğundan dolayı daha iyi sonuç verdi linear regresyon."
   ]
  },
  {
   "cell_type": "code",
   "execution_count": null,
   "metadata": {},
   "outputs": [],
   "source": []
  }
 ],
 "metadata": {
  "kernelspec": {
   "display_name": "Python 3 (ipykernel)",
   "language": "python",
   "name": "python3"
  },
  "language_info": {
   "codemirror_mode": {
    "name": "ipython",
    "version": 3
   },
   "file_extension": ".py",
   "mimetype": "text/x-python",
   "name": "python",
   "nbconvert_exporter": "python",
   "pygments_lexer": "ipython3",
   "version": "3.11.5"
  },
  "varInspector": {
   "cols": {
    "lenName": 16,
    "lenType": 16,
    "lenVar": 40
   },
   "kernels_config": {
    "python": {
     "delete_cmd_postfix": "",
     "delete_cmd_prefix": "del ",
     "library": "var_list.py",
     "varRefreshCmd": "print(var_dic_list())"
    },
    "r": {
     "delete_cmd_postfix": ") ",
     "delete_cmd_prefix": "rm(",
     "library": "var_list.r",
     "varRefreshCmd": "cat(var_dic_list()) "
    }
   },
   "types_to_exclude": [
    "module",
    "function",
    "builtin_function_or_method",
    "instance",
    "_Feature"
   ],
   "window_display": false
  }
 },
 "nbformat": 4,
 "nbformat_minor": 4
}
